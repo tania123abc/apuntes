{
  "nbformat": 4,
  "nbformat_minor": 0,
  "metadata": {
    "colab": {
      "provenance": [],
      "include_colab_link": true
    },
    "kernelspec": {
      "name": "python3",
      "display_name": "Python 3"
    },
    "language_info": {
      "name": "python"
    }
  },
  "cells": [
    {
      "cell_type": "markdown",
      "metadata": {
        "id": "view-in-github",
        "colab_type": "text"
      },
      "source": [
        "<a href=\"https://colab.research.google.com/github/tania123abc/apuntes/blob/main/3.%20Condicionales.ipynb\" target=\"_parent\"><img src=\"https://colab.research.google.com/assets/colab-badge.svg\" alt=\"Open In Colab\"/></a>"
      ]
    },
    {
      "cell_type": "markdown",
      "source": [
        "# Condicionales\n",
        "\n",
        "Las sentencias condicionales o simplemente **condicionales**, nos permite controlar o condicionar el flujo de nuestro código. <br>\n",
        "\n",
        "Dicho de otro modo, nos permite tomar decisiones. <br>\n",
        "\n",
        "\n",
        "**Palabras clave:**\n",
        "if, elif, else\n",
        "\n",
        "## Bloque de código\n",
        "\n",
        "Es un grupo de sentencias (líneas de código) que se ejecuta como una unidad. <br>\n",
        "Están relacionadas y se encuentran bien delimitadas. <br>\n",
        "En Python se usa la **identación** (4 espacios o 1 tabulación (tab)) al inicio de la línea de código.\n",
        "\n",
        "\n",
        "\n"
      ],
      "metadata": {
        "id": "0LSgqMWvoQzB"
      }
    },
    {
      "cell_type": "markdown",
      "source": [
        "**Depuración de código** <br>\n",
        "**IndentationError:** expected an indented block\n",
        "Este error sucede cuando no tenemos los 4 espacios o 1 tabulación (tab)"
      ],
      "metadata": {
        "id": "XXsqbjaCx5py"
      }
    },
    {
      "cell_type": "markdown",
      "source": [
        "# Condicional if\n",
        "\n",
        "Si se cumple la condición, se ejecuta el bloque de código.\n",
        "\n",
        "```\n",
        "if condicion:\n",
        "----bloque de código que se ejecuta.\n",
        "\n",
        "if condicion:\n",
        "    bloque de código que se ejecuta.\n",
        "\n",
        "if True:\n",
        "    bloque de código que se ejecuta.\n",
        "    \n",
        "\n",
        "# Nota: los guiones son una ayuda visual para identificar la identación.\n",
        "```"
      ],
      "metadata": {
        "id": "IHG66QT6pkSy"
      }
    },
    {
      "cell_type": "markdown",
      "source": [
        "La condición siempre se evalúa.\n",
        "- Si es True se ejecuta el bloque\n",
        "- Si es False NO se ejecuta el bloque"
      ],
      "metadata": {
        "id": "xsJ-hm0CtTrP"
      }
    },
    {
      "cell_type": "markdown",
      "source": [
        "Es lunes por la mañana, suena el timbre, despierto con flojera y pienso: <br>\n",
        "- ¿Me quedo más tiempo en la cama o me levanto?\n",
        "\n",
        "```\n",
        "accion = 'dormir' ó accion = 'levantarse'\n",
        "\n",
        "if accion == 'dormir':\n",
        "    # Inicia bloque\n",
        "    print('Llegaré tarde a trabajar')\n",
        "    print('Me la juego')\n",
        "    # Termina bloque\n",
        "\n",
        "print('Hoy si me duermo más temprano')\n",
        "\n",
        "```\n",
        "\n"
      ],
      "metadata": {
        "id": "8kyYX82Mophf"
      }
    },
    {
      "cell_type": "code",
      "source": [],
      "metadata": {
        "id": "QUSb1DSBokVi"
      },
      "execution_count": null,
      "outputs": []
    },
    {
      "cell_type": "code",
      "execution_count": null,
      "metadata": {
        "id": "NTyD6v-GiJV7"
      },
      "outputs": [],
      "source": []
    },
    {
      "cell_type": "code",
      "source": [
        "accion = True\n",
        "if accion:\n",
        "  print('Se ejecuta este código')"
      ],
      "metadata": {
        "id": "Y_Cy5VJ-0RMB"
      },
      "execution_count": 13,
      "outputs": []
    },
    {
      "cell_type": "code",
      "source": [
        "if True:\n",
        "    print('x')\n",
        ""
      ],
      "metadata": {
        "id": "EFU8TDMSov_v",
        "outputId": "bfe79e9a-b337-4b24-a03f-2a452d19e051",
        "colab": {
          "base_uri": "https://localhost:8080/"
        }
      },
      "execution_count": 16,
      "outputs": [
        {
          "output_type": "stream",
          "name": "stdout",
          "text": [
            "x\n"
          ]
        }
      ]
    },
    {
      "cell_type": "markdown",
      "source": [
        "# Condicional if, else\n",
        "Si se cumple la condición, se ejecuta el **primer** bloque de código. <br>\n",
        "Si NO se cumple la condición, se ejecuta el **segundo** bloque de código\n",
        "\n",
        "```\n",
        "if condicion:\n",
        "----PRIMER bloque de código.\n",
        "else:\n",
        "----SEGUNDO bloque de código.\n",
        "```\n",
        "\n",
        "**Nota:** El condicional **else** es opcional, pero es una buena práctica siempre escribirlo para finalizar nuestro condicional."
      ],
      "metadata": {
        "id": "a3xD7RQksWNO"
      }
    },
    {
      "cell_type": "code",
      "source": [
        " accion = 'levantarse'"
      ],
      "metadata": {
        "id": "OKPPET_9rY_E"
      },
      "execution_count": 22,
      "outputs": []
    },
    {
      "cell_type": "code",
      "source": [
        "#accion = 'dormir'\n",
        "accion = 'levantarse'\n",
        "\n",
        "if accion == 'dormir':\n",
        "  print('Llegaré tarde a trabajar')\n",
        "else:\n",
        "  print('LLegaré con sueño al trabajo')"
      ],
      "metadata": {
        "id": "2Bsdc9VrsK9w",
        "outputId": "2a96cd5a-5f83-420b-adf7-333240107f66",
        "colab": {
          "base_uri": "https://localhost:8080/"
        }
      },
      "execution_count": 23,
      "outputs": [
        {
          "output_type": "stream",
          "name": "stdout",
          "text": [
            "LLegaré con sueño al trabajo\n"
          ]
        }
      ]
    },
    {
      "cell_type": "code",
      "source": [],
      "metadata": {
        "id": "w1ur9-zXrXWW"
      },
      "execution_count": null,
      "outputs": []
    },
    {
      "cell_type": "markdown",
      "source": [
        "# Condicional if, else, elif\n",
        "\n",
        "Con el condicional **if** iniciamos la evaluación, y con **else** cerramos la evaluación. <br>\n",
        "\n",
        "El condicional **elif** es la parte intermedia, que nos permite tener más de dos opciones.\n",
        "\n",
        "\n",
        "\n",
        "```\n",
        "if condicion:\n",
        "----PRIMER bloque de código.\n",
        "elif condicion:\n",
        "----SEGUNDO bloque de código.\n",
        "elif condicion:\n",
        "----TERCER bloque de código.\n",
        "else:\n",
        "----CUARTO bloque de código.\n",
        "```"
      ],
      "metadata": {
        "id": "p0CudfWlt4Ih"
      }
    },
    {
      "cell_type": "code",
      "source": [],
      "metadata": {
        "id": "XbwpvaL-rjaz"
      },
      "execution_count": null,
      "outputs": []
    },
    {
      "cell_type": "code",
      "source": [
        "accion = 'dormir'\n",
        "# accion = 'levantarse'\n",
        "\n",
        "if accion == 'dormir':\n",
        "  print('Llegaré tarde a trabajar')\n",
        "elif accion == 'levantarse':\n",
        "  print('LLegaré con sueño al trabajo')\n",
        "else:\n",
        "  print('Error: los valores aceptados son: `dormir` ó `levantarse`')"
      ],
      "metadata": {
        "id": "iKC-y2bYfyRB"
      },
      "execution_count": null,
      "outputs": []
    },
    {
      "cell_type": "code",
      "source": [
        "temperatura = 15\n",
        "\n",
        "if temperatura < 0:\n",
        "  print('Me congelo!!')\n",
        "elif temperatura >= 0 and temperatura <= 10:\n",
        "  print('Que frío!!')\n",
        "else:\n",
        "  print('Hace calorcito')"
      ],
      "metadata": {
        "id": "5xZzWuIWzbTf",
        "outputId": "bfa61ba4-43b1-43be-af3b-0b0de3413a61",
        "colab": {
          "base_uri": "https://localhost:8080/"
        }
      },
      "execution_count": 24,
      "outputs": [
        {
          "output_type": "stream",
          "name": "stdout",
          "text": [
            "Hace calorcito\n"
          ]
        }
      ]
    },
    {
      "cell_type": "code",
      "source": [
        "temperatura = 10.1\n",
        "\n",
        "if temperatura < 0:\n",
        "  print('Me congelo!!')\n",
        "elif temperatura >= 0 and temperatura <= 10:\n",
        "  print('Que frío!!')\n",
        "elif temperatura > 10 and temperatura <= 25:\n",
        "  print('temperatura agrdable')\n",
        "\n",
        "else:\n",
        "  print('Hace calorcito')"
      ],
      "metadata": {
        "id": "NbsvkhFXsDcw",
        "outputId": "6776c186-c5bd-4230-a04b-03387c429a85",
        "colab": {
          "base_uri": "https://localhost:8080/"
        }
      },
      "execution_count": 33,
      "outputs": [
        {
          "output_type": "stream",
          "name": "stdout",
          "text": [
            "temperatura agrdable\n"
          ]
        }
      ]
    },
    {
      "cell_type": "markdown",
      "source": [
        "# Lab: 'No voy a trabajar'\n",
        "\n",
        "Convertir la canción *No voy a trabajar* a una sentencia de tipo if, elif, else, para los días de la semana."
      ],
      "metadata": {
        "id": "twoZJDp_xLLp"
      }
    },
    {
      "cell_type": "code",
      "source": [
        "d1='lunes'; d2='martes'; d3='miercoles'; d4='jueves'; d5='viernes'; d6='domingo'\n",
        "dia = d6\n",
        "if dia == d1:\n",
        "  print('luenes principio de semana no voy a trabajar')\n",
        "elif dia == d2:\n",
        "  print('martes no cases ni te embarques, no voy a trabajar')\n",
        "elif dia == d3:\n",
        "  print('miercoles, se casa la patrona, no voy a trabajar')\n",
        "elif dia == d4:\n",
        "  print('jueves, estoy muy desvelado, no voy a trabajar')\n",
        "elif dia == d5:\n",
        "  print('viernes, no voy a trabajar')\n",
        "elif dia == d6:\n",
        "  print('opcion no valida')\n",
        "\n"
      ],
      "metadata": {
        "id": "PWxIP67EvaXs",
        "outputId": "24b7df36-60d9-43da-e85a-6038ad22c70e",
        "colab": {
          "base_uri": "https://localhost:8080/"
        }
      },
      "execution_count": 53,
      "outputs": [
        {
          "output_type": "stream",
          "name": "stdout",
          "text": [
            "opcion no valida\n"
          ]
        }
      ]
    },
    {
      "cell_type": "markdown",
      "source": [
        "# Ejercicio: Números pares e impares\n",
        "Generá un código para determinar si un número es par o impar."
      ],
      "metadata": {
        "id": "1m7ahSQZtGwt"
      }
    },
    {
      "cell_type": "code",
      "source": [
        "num=67\n",
        "if num%2 == 0:\n",
        "  print('es par')\n",
        "else:\n",
        "  print('es impar')\n"
      ],
      "metadata": {
        "id": "t7jbd4ELt1lZ",
        "outputId": "0a09f029-2273-4eec-8a37-e7bbdc91778a",
        "colab": {
          "base_uri": "https://localhost:8080/"
        }
      },
      "execution_count": 113,
      "outputs": [
        {
          "output_type": "stream",
          "name": "stdout",
          "text": [
            "es impar\n"
          ]
        }
      ]
    },
    {
      "cell_type": "code",
      "source": [
        "a=0\n",
        "a%2 == 0\n",
        "if True:\n",
        "  print('es par')"
      ],
      "metadata": {
        "id": "Y3893eRIySmF",
        "outputId": "3d776b82-21cc-4b56-821a-1809f51b1e2b",
        "colab": {
          "base_uri": "https://localhost:8080/"
        }
      },
      "execution_count": 147,
      "outputs": [
        {
          "output_type": "stream",
          "name": "stdout",
          "text": [
            "es par\n"
          ]
        }
      ]
    },
    {
      "cell_type": "code",
      "source": [],
      "metadata": {
        "id": "IbxJ_YUg6sbf"
      },
      "execution_count": null,
      "outputs": []
    },
    {
      "cell_type": "markdown",
      "source": [
        "# Ejercicio: Impuestos\n",
        "Los tramos impositivos para la declaración de ingresos son los siguientes:\n"
      ],
      "metadata": {
        "id": "7mYP8Ikb0qZH"
      }
    },
    {
      "cell_type": "code",
      "source": [
        "import pandas as pd\n",
        "pd.DataFrame(columns=['Ingresos', 'Tasa impositiva'],\n",
        "             index=[1, 2, 3, 4],\n",
        "             data=[['Menos de 1,000', '5 %'],\n",
        "                   ['Entre 1,000 y 2,000', '15 %'],\n",
        "                   ['Entre 2,000 y 3,000', '20 %'],\n",
        "                   ['Más de 3,000', '30 %']])"
      ],
      "metadata": {
        "id": "c-ZfgqQ80p-2"
      },
      "execution_count": null,
      "outputs": []
    },
    {
      "cell_type": "markdown",
      "source": [
        "Escribir un programa que pregunte al usuario su renta anual y muestre por pantalla el tipo el total de impuestos a pagar en función de la tasa impositiva.\n",
        "1.   Usa la función **input** para solicitar el ingreso del usuario\n",
        "2.   Usa las sentencias condicionales (if, elif, else) para crear el flujo\n",
        "3.   Realiza la operación para obtener el total de impuestos a pagar\n",
        "4.   Imprime los resultados\n",
        "\n"
      ],
      "metadata": {
        "id": "8DsIEtD800ST"
      }
    },
    {
      "cell_type": "code",
      "source": [],
      "metadata": {
        "id": "B-0s6PFj0zTs"
      },
      "execution_count": null,
      "outputs": []
    },
    {
      "cell_type": "markdown",
      "source": [
        "## Condicionales anidados\n",
        "\n",
        "```\n",
        "if primer_condicion:\n",
        "----bloque 1 de código.\n",
        "----if segunda_condicion:\n",
        "--------bloque 1A de código.\n",
        "----else:\n",
        "--------bloque 1B de código.\n",
        "else:\n",
        "----bloque 2 de código.\n",
        "----if segunda_condicion:\n",
        "--------bloque 2A de código.\n",
        "----else:\n",
        "--------bloque 2B de código.\n",
        "```"
      ],
      "metadata": {
        "id": "uCdJxI0yxxUO"
      }
    },
    {
      "cell_type": "markdown",
      "source": [
        "## Lab: Login\n",
        "Escribir un programa que pida un usuario y contraseña para iniciar sesión.\n",
        "\n",
        "1.   Solicita el nombre de usuario\n",
        "2.   Solicita el password\n",
        "3.   Revisa que el nombre de usuario sea válido\n",
        "4.   Verifica que la contraseña sea correcta"
      ],
      "metadata": {
        "id": "0OfxHB_d09Qi"
      }
    },
    {
      "cell_type": "code",
      "source": [
        "# BASE DE DATOS DB\n",
        "user_db = 'cuau2077'\n",
        "password_db = '1234'"
      ],
      "metadata": {
        "id": "IU5dDjDC3E5-"
      },
      "execution_count": null,
      "outputs": []
    },
    {
      "cell_type": "code",
      "source": [
        "# Paso 1\n",
        "user = input('Ingrese su usuario: ')"
      ],
      "metadata": {
        "id": "3nkaOP0p30ED"
      },
      "execution_count": null,
      "outputs": []
    },
    {
      "cell_type": "code",
      "source": [
        "print(user)"
      ],
      "metadata": {
        "id": "jja-Awol36gA"
      },
      "execution_count": null,
      "outputs": []
    },
    {
      "cell_type": "code",
      "source": [
        "# Paso 2\n",
        "password = input('Ingrese su contraseña: ')"
      ],
      "metadata": {
        "id": "yCMPGTQ-38kA"
      },
      "execution_count": null,
      "outputs": []
    },
    {
      "cell_type": "code",
      "source": [
        "print(password)"
      ],
      "metadata": {
        "id": "kWXftA9k4CEO"
      },
      "execution_count": null,
      "outputs": []
    },
    {
      "cell_type": "code",
      "source": [
        "print(type(password))"
      ],
      "metadata": {
        "id": "RutKeKas4EMq"
      },
      "execution_count": null,
      "outputs": []
    },
    {
      "cell_type": "code",
      "source": [
        "# Paso 3\n",
        "# Verificamos que el usaurio existe en\n",
        "# la base de datos\n",
        "if user == 'cuau2077':\n",
        "  print('El usuario existe')\n",
        "else:\n",
        "  print('Verifique el nombre de usuario')"
      ],
      "metadata": {
        "id": "0IS_wUjMxwMo"
      },
      "execution_count": null,
      "outputs": []
    },
    {
      "cell_type": "code",
      "source": [
        "# Verificamos que el usaurio existe en\n",
        "# la base de datos\n",
        "if user == 'cuau2077':\n",
        "  print('El usuario existe')\n",
        "  if password == password: # Paso 4\n",
        "    print('Iniciaste sesión exitosamente')\n",
        "  else:\n",
        "    print('Contraseña incorrecta')\n",
        "else:\n",
        "  print('Verifique el nombre de usuario')"
      ],
      "metadata": {
        "id": "SX56wO7p3ac2"
      },
      "execution_count": null,
      "outputs": []
    }
  ]
}